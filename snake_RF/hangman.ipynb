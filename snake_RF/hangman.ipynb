{
 "cells": [
  {
   "cell_type": "markdown",
   "source": [
    "# Hangman RL"
   ],
   "metadata": {
    "collapsed": false
   }
  },
  {
   "cell_type": "code",
   "execution_count": 1,
   "metadata": {
    "collapsed": true,
    "ExecuteTime": {
     "end_time": "2024-01-08T16:19:03.420453Z",
     "start_time": "2024-01-08T16:19:00.892839Z"
    }
   },
   "outputs": [],
   "source": [
    "from tqdm import trange\n",
    "import tensorflow as tf\n",
    "import numpy as np\n",
    "from hangman import Environment, Agent"
   ]
  },
  {
   "cell_type": "code",
   "execution_count": 2,
   "outputs": [
    {
     "name": "stdout",
     "output_type": "stream",
     "text": [
      "loading dataset\n"
     ]
    }
   ],
   "source": [
    "# parallel environments over which we will play\n",
    "# we use multiple environments so that samples from them are time-uncorrelated\n",
    "envs = [Environment(\"dataset.txt\") for _ in range(1024)]"
   ],
   "metadata": {
    "collapsed": false,
    "pycharm": {
     "name": "#%%\n"
    },
    "ExecuteTime": {
     "end_time": "2024-01-08T16:19:04.886165Z",
     "start_time": "2024-01-08T16:19:04.637213Z"
    }
   }
  },
  {
   "cell_type": "code",
   "execution_count": 4,
   "outputs": [],
   "source": [
    "# we build the agent, passing the first env as example from which take the word list\n",
    "agent = Agent(envs[0], batch_size=len(envs), actor_rep=1)"
   ],
   "metadata": {
    "collapsed": false,
    "pycharm": {
     "name": "#%%\n"
    },
    "ExecuteTime": {
     "end_time": "2024-01-08T16:19:09.239518Z",
     "start_time": "2024-01-08T16:19:09.230022Z"
    }
   }
  },
  {
   "cell_type": "markdown",
   "source": [
    "## Training of the main agent"
   ],
   "metadata": {
    "collapsed": false
   }
  },
  {
   "cell_type": "markdown",
   "source": [
    "Takes 5/10 minutes depending on the PC"
   ],
   "metadata": {
    "collapsed": false
   }
  },
  {
   "cell_type": "code",
   "execution_count": 6,
   "outputs": [
    {
     "name": "stdout",
     "output_type": "stream",
     "text": [
      "0/5000 - 0\n",
      "50/5000 - 0\n",
      "100/5000 - 0.08209635416666666\n",
      "150/5000 - 0.08235677083333333\n",
      "200/5000 - 0.083984375\n",
      "250/5000 - 0.08447265625\n",
      "300/5000 - 0.08440755208333334\n",
      "350/5000 - 0.08479817708333333\n",
      "400/5000 - 0.0853515625\n",
      "450/5000 - 0.08570963541666667\n",
      "500/5000 - 0.08743489583333333\n",
      "550/5000 - 0.08893229166666666\n",
      "600/5000 - 0.08857421875\n",
      "650/5000 - 0.08880208333333334\n",
      "700/5000 - 0.08876953125\n",
      "750/5000 - 0.08857421875\n",
      "800/5000 - 0.08958333333333333\n",
      "850/5000 - 0.08977864583333334\n",
      "900/5000 - 0.09010416666666667\n",
      "950/5000 - 0.08942057291666666\n",
      "1000/5000 - 0.090234375\n",
      "1050/5000 - 0.09016927083333333\n",
      "1100/5000 - 0.08968098958333333\n",
      "1150/5000 - 0.09069010416666666\n",
      "1200/5000 - 0.09013671875\n",
      "1250/5000 - 0.09029947916666667\n",
      "1300/5000 - 0.09078776041666667\n",
      "1350/5000 - 0.09013671875\n",
      "1400/5000 - 0.08974609375\n",
      "1450/5000 - 0.09026692708333334\n",
      "1500/5000 - 0.09016927083333333\n",
      "1550/5000 - 0.09013671875\n",
      "1600/5000 - 0.090234375\n",
      "1650/5000 - 0.09078776041666667\n",
      "1700/5000 - 0.09091796875\n",
      "1750/5000 - 0.08977864583333334\n",
      "1800/5000 - 0.09020182291666666\n",
      "1850/5000 - 0.08974609375\n",
      "1900/5000 - 0.09046223958333334\n",
      "1950/5000 - 0.09055989583333333\n",
      "2000/5000 - 0.0904296875\n",
      "2050/5000 - 0.0896484375\n",
      "2100/5000 - 0.08990885416666666\n",
      "2150/5000 - 0.09026692708333334\n",
      "2200/5000 - 0.09013671875\n",
      "2250/5000 - 0.09098307291666667\n",
      "2300/5000 - 0.09059244791666667\n",
      "2350/5000 - 0.09134114583333333\n",
      "2400/5000 - 0.09000651041666667\n",
      "2450/5000 - 0.0904296875\n",
      "2500/5000 - 0.09143880208333334\n",
      "2550/5000 - 0.09033203125\n",
      "2600/5000 - 0.09114583333333333\n",
      "2650/5000 - 0.09098307291666667\n",
      "2700/5000 - 0.09055989583333333\n",
      "2750/5000 - 0.08977864583333334\n",
      "2800/5000 - 0.09075520833333334\n",
      "2850/5000 - 0.09039713541666666\n",
      "2900/5000 - 0.09117838541666666\n",
      "2950/5000 - 0.09108072916666667\n",
      "3000/5000 - 0.09202473958333333\n",
      "3050/5000 - 0.09283854166666666\n",
      "3100/5000 - 0.09381510416666666\n",
      "3150/5000 - 0.09254557291666667\n",
      "3200/5000 - 0.09332682291666666\n",
      "3250/5000 - 0.09371744791666667\n",
      "3300/5000 - 0.09365234375\n",
      "3350/5000 - 0.09306640625\n",
      "3400/5000 - 0.09329427083333333\n",
      "3450/5000 - 0.09375\n",
      "3500/5000 - 0.09401041666666667\n",
      "3550/5000 - 0.09319661458333334\n",
      "3600/5000 - 0.0943359375\n",
      "3650/5000 - 0.09358723958333333\n",
      "3700/5000 - 0.093359375\n",
      "3750/5000 - 0.09391276041666667\n",
      "3800/5000 - 0.09322916666666667\n",
      "3850/5000 - 0.09368489583333334\n",
      "3900/5000 - 0.0939453125\n",
      "3950/5000 - 0.09313151041666666\n",
      "4000/5000 - 0.09440104166666667\n",
      "4050/5000 - 0.09391276041666667\n",
      "4100/5000 - 0.09371744791666667\n",
      "4150/5000 - 0.09300130208333333\n",
      "4200/5000 - 0.09440104166666667\n",
      "4250/5000 - 0.09378255208333333\n",
      "4300/5000 - 0.09319661458333334\n",
      "4350/5000 - 0.09358723958333333\n",
      "4400/5000 - 0.094140625\n",
      "4450/5000 - 0.09348958333333333\n",
      "4500/5000 - 0.09326171875\n",
      "4550/5000 - 0.09436848958333334\n",
      "4600/5000 - 0.09381510416666666\n",
      "4650/5000 - 0.09358723958333333\n",
      "4700/5000 - 0.09401041666666667\n",
      "4750/5000 - 0.09342447916666667\n",
      "4800/5000 - 0.0943359375\n",
      "4850/5000 - 0.09371744791666667\n",
      "4900/5000 - 0.09332682291666666\n",
      "4950/5000 - 0.094140625\n"
     ]
    }
   ],
   "source": [
    "rewards_history = [0]\n",
    "EPOCHS = 5000\n",
    "for e in range(EPOCHS):\n",
    "    if e % 50 == 0:\n",
    "        print(f\"{e}/{EPOCHS} - {np.mean(rewards_history[-30:]) or 0}\", end=\"\\n\")\n",
    "    states = []\n",
    "    masks = []\n",
    "    # get states and masks for each env\n",
    "    for env in envs:\n",
    "        states.append(agent.state(env))\n",
    "        masks.append(agent.mask(env))\n",
    "    states = np.array(states)\n",
    "    masks = np.array(masks)\n",
    "\n",
    "    # calculate pi(a|s)\n",
    "    original_probs = agent.actor(states)\n",
    "    probs = original_probs * masks\n",
    "    probs = probs / tf.reduce_sum(probs, axis=-1, keepdims=True)\n",
    "    # sample word to guess\n",
    "    samples = tf.random.categorical(tf.math.log(probs), 1)[:, 0]\n",
    "\n",
    "    rewards = []\n",
    "    dones = []\n",
    "    # act on each env and collect reward/done\n",
    "    for sample, env in zip(samples, envs):\n",
    "        d, r = env.act(agent.int_to_only_letter(env, sample))\n",
    "        rewards.append(r)\n",
    "        dones.append(d)\n",
    "\n",
    "    rewards = np.array(rewards)\n",
    "    dones = np.array(dones)\n",
    "    # collect new states, to use for the learning of the agent\n",
    "    new_states = []\n",
    "    for env in envs:\n",
    "        new_states.append(agent.state(env))\n",
    "    new_states = np.array(new_states)\n",
    "    # learning for the agent\n",
    "    agent.learn(states, new_states, samples, rewards, dones, masks)\n",
    "\n",
    "    # collect history of rewards\n",
    "    if e > 50: rewards_history.append(np.mean(rewards))\n"
   ],
   "metadata": {
    "collapsed": false,
    "pycharm": {
     "name": "#%%\n"
    },
    "ExecuteTime": {
     "end_time": "2024-01-08T16:33:01.680305Z",
     "start_time": "2024-01-08T16:19:46.990090Z"
    }
   }
  },
  {
   "cell_type": "markdown",
   "source": [
    "## Training of a random agent (baseline)"
   ],
   "metadata": {
    "collapsed": false
   }
  },
  {
   "cell_type": "code",
   "execution_count": 7,
   "outputs": [
    {
     "name": "stderr",
     "output_type": "stream",
     "text": [
      "100%|██████████| 1000/1000 [00:15<00:00, 65.68it/s]\n"
     ]
    }
   ],
   "source": [
    "envs = [Environment(\"dataset.txt\") for _ in range(256)]\n",
    "shape = (256, len(envs[0].only_letters_list))\n",
    "random_rewards_history = []\n",
    "for _ in trange(1000):\n",
    "    masks = []\n",
    "    for env in envs:\n",
    "        masks.append(agent.mask(env))\n",
    "    masks = np.array(masks)\n",
    "    # uniform distribution over letters\n",
    "    probs = np.ones(shape)/shape[-1]\n",
    "    probs = probs * masks\n",
    "    probs = probs * tf.linalg.norm(probs, ord=1, axis=-1)[0]\n",
    "    samples = tf.random.categorical(tf.math.log(probs), 1)[:, 0]\n",
    "    rewards = []\n",
    "    for sample, env in zip(samples, envs):\n",
    "        d,r = env.act(agent.int_to_only_letter(env, sample))\n",
    "        rewards.append(r)\n",
    "    rewards = np.array(rewards)\n",
    "    random_rewards_history.append(np.mean(rewards))"
   ],
   "metadata": {
    "collapsed": false,
    "pycharm": {
     "name": "#%%\n"
    },
    "ExecuteTime": {
     "end_time": "2024-01-08T17:06:36.299872Z",
     "start_time": "2024-01-08T17:06:21.024086Z"
    }
   }
  },
  {
   "cell_type": "markdown",
   "source": [
    "## Training results"
   ],
   "metadata": {
    "collapsed": false
   }
  },
  {
   "cell_type": "code",
   "execution_count": 8,
   "outputs": [
    {
     "data": {
      "text/plain": "Text(0, 0.5, 'rewards')"
     },
     "execution_count": 8,
     "metadata": {},
     "output_type": "execute_result"
    },
    {
     "data": {
      "text/plain": "<Figure size 640x480 with 1 Axes>",
      "image/png": "[encoded data removed]"
     },
     "metadata": {},
     "output_type": "display_data"
    }
   ],
   "source": [
    "import matplotlib.pyplot as plt\n",
    "N = 10\n",
    "rewards_history_ = np.reshape(rewards_history[:len(rewards_history) // N * N], (-1, N)).mean(axis=-1)\n",
    "plt.hlines(np.mean(random_rewards_history), 0, len(rewards_history_), color=\"red\", linestyles=\"dotted\")\n",
    "plt.plot(rewards_history_)\n",
    "plt.legend([\"random baseline\", \"rewards PPO\"])\n",
    "plt.xlabel(\"epochs\")\n",
    "plt.ylabel(\"rewards\")"
   ],
   "metadata": {
    "collapsed": false,
    "pycharm": {
     "name": "#%%\n"
    },
    "ExecuteTime": {
     "end_time": "2024-01-08T17:06:36.743612Z",
     "start_time": "2024-01-08T17:06:36.301346Z"
    }
   }
  }
 ],
 "metadata": {
  "kernelspec": {
   "name": "ml-apple-metal",
   "language": "python",
   "display_name": "Python 3.9 (ML lib metal)"
  },
  "language_info": {
   "codemirror_mode": {
    "name": "ipython",
    "version": 2
   },
   "file_extension": ".py",
   "mimetype": "text/x-python",
   "name": "python",
   "nbconvert_exporter": "python",
   "pygments_lexer": "ipython2",
   "version": "2.7.6"
  }
 },
 "nbformat": 4,
 "nbformat_minor": 0
}
